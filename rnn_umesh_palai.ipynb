{
 "cells": [
  {
   "cell_type": "markdown",
   "metadata": {},
   "source": [
    "# rnn_umesh_palai\n",
    "This jupyter notebook shows Umesh Palai's implementation of an RNN using open,high,low, close data from https://github.com/umeshpalai/AlgorithmicTrading-MachineLearning by Umesh Palai.  He does a very nice job in his [blog](https://www.quantinsti.com/blog/rnn-lstm-gru-trading) regarding this project, of explaining the various facets of his rnn implementation.\n",
    "\n",
    "The code has been reorganized a little to make it a little easier to read.  The final plot that zooms in on a small subset of the y_predicted vs y_test data shows how RNN's often simply approximate a single period shift of the y_test data.\n",
    "\n",
    "(_While I am far from an expert in Deep Neural Networks, I have seen this behavior with other RNN's that attempt to perform regression on securites bar-like time series._)"
   ]
  },
  {
   "cell_type": "markdown",
   "metadata": {},
   "source": [
    "___\n",
    "## Section 1.0 - imports"
   ]
  },
  {
   "cell_type": "code",
   "execution_count": 1,
   "metadata": {},
   "outputs": [
    {
     "name": "stderr",
     "output_type": "stream",
     "text": [
      "/Library/Frameworks/Python.framework/Versions/3.6/lib/python3.6/importlib/_bootstrap.py:219: RuntimeWarning: compiletime version 3.5 of module 'tensorflow.python.framework.fast_tensor_util' does not match runtime version 3.6\n",
      "  return f(*args, **kwds)\n"
     ]
    }
   ],
   "source": [
    "#import all libraries\n",
    "import numpy as np\n",
    "import pandas as pd\n",
    "import sklearn.preprocessing\n",
    "import matplotlib.pyplot as plt\n",
    "import tensorflow as tf"
   ]
  },
  {
   "cell_type": "markdown",
   "metadata": {},
   "source": [
    "## Section 1.1 - Define constants"
   ]
  },
  {
   "cell_type": "code",
   "execution_count": 2,
   "metadata": {},
   "outputs": [],
   "source": [
    "# path to data\n",
    "dataset_path = './data/RELIANCE.NS.csv'\n",
    "\n",
    "# Splitting the dataset into Train, Valid & test data \n",
    "valid_set_size_percentage = 10 \n",
    "test_set_size_percentage = 10 \n",
    "seq_len = 20 # taken sequence length as 20\n",
    "\n",
    "# parameters & Placeholders \n",
    "n_steps = seq_len-1 \n",
    "n_inputs = 4 \n",
    "n_neurons = 200 \n",
    "n_outputs = 4\n",
    "n_layers = 2\n",
    "learning_rate = 0.001\n",
    "batch_size = 50\n",
    "n_epochs = 100 \n"
   ]
  },
  {
   "cell_type": "markdown",
   "metadata": {},
   "source": [
    "___\n",
    "## Section 2.0 - Data scaling method"
   ]
  },
  {
   "cell_type": "code",
   "execution_count": 3,
   "metadata": {},
   "outputs": [],
   "source": [
    "# data scaling (normalizing)\n",
    "def normalize_data(df):\n",
    "    min_max_scaler = sklearn.preprocessing.MinMaxScaler()\n",
    "    df['Open'] = min_max_scaler.fit_transform(df.Open.values.reshape(-1,1))\n",
    "    df['High'] = min_max_scaler.fit_transform(df.High.values.reshape(-1,1))\n",
    "    df['Low'] = min_max_scaler.fit_transform(df.Low.values.reshape(-1,1))\n",
    "    df['Close'] = min_max_scaler.fit_transform(df['Close'].values.reshape(-1,1))\n",
    "    return df\n"
   ]
  },
  {
   "cell_type": "markdown",
   "metadata": {},
   "source": [
    "___\n",
    "## Section 2.1 - Data loader methods"
   ]
  },
  {
   "cell_type": "code",
   "execution_count": 4,
   "metadata": {},
   "outputs": [],
   "source": [
    "# load data by batches\n",
    "\n",
    "def load_data(stock, seq_len):\n",
    "    data_raw = stock.as_matrix() \n",
    "    data = [] \n",
    "    # Create 3 dimensional arrays where the middle dimension is of length seq_len - 1.\n",
    "    #  Each sequence of features, of length seq - 1, represents \n",
    "    for index in range(len(data_raw) - seq_len): \n",
    "        data.append(data_raw[index: index + seq_len])\n",
    "    data = np.array(data);\n",
    "    valid_set_size = int(np.round(valid_set_size_percentage/100*data.shape[0]));  \n",
    "    test_set_size = int(np.round(test_set_size_percentage/100*data.shape[0]));\n",
    "    train_set_size = data.shape[0] - (valid_set_size + test_set_size);\n",
    "    x_train = data[:train_set_size,:-1,:]\n",
    "    y_train = data[:train_set_size,-1,:]\n",
    "    x_valid = data[train_set_size:train_set_size+valid_set_size,:-1,:]\n",
    "    y_valid = data[train_set_size:train_set_size+valid_set_size,-1,:]\n",
    "    x_test = data[train_set_size+valid_set_size:,:-1,:]\n",
    "    y_test = data[train_set_size+valid_set_size:,-1,:]\n",
    "    return [x_train, y_train, x_valid, y_valid, x_test, y_test]\n",
    "\n",
    "\n",
    "\n",
    "def get_next_batch(batch_size):\n",
    "    global index_in_epoch, x_train, perm_array   \n",
    "    start = index_in_epoch\n",
    "    index_in_epoch += batch_size \n",
    "    if index_in_epoch > x_train.shape[0]:\n",
    "        np.random.shuffle(perm_array) # shuffle permutation array\n",
    "        start = 0 # start next epoch\n",
    "        index_in_epoch = batch_size     \n",
    "    end = index_in_epoch\n",
    "    return x_train[perm_array[start:end]], y_train[perm_array[start:end]]\n"
   ]
  },
  {
   "cell_type": "markdown",
   "metadata": {},
   "source": [
    "___\n",
    "## Section 3.0 - Read dataset, create DataFrame and normalize it"
   ]
  },
  {
   "cell_type": "code",
   "execution_count": 5,
   "metadata": {},
   "outputs": [],
   "source": [
    "dataset = pd.read_csv(dataset_path, index_col = 0)\n",
    "df_stock = dataset.copy()\n",
    "df_stock = df_stock.dropna()\n",
    "df_stock = df_stock[['Open', 'High', 'Low', 'Close']]\n",
    "\n",
    "df_stock_norm = df_stock.copy()\n",
    "df_stock_norm = normalize_data(df_stock_norm)"
   ]
  },
  {
   "cell_type": "markdown",
   "metadata": {},
   "source": [
    "___\n",
    "## Section 3.1 - Create training, validation and test set data"
   ]
  },
  {
   "cell_type": "code",
   "execution_count": 6,
   "metadata": {},
   "outputs": [
    {
     "name": "stdout",
     "output_type": "stream",
     "text": [
      "x_train.shape =  (4497, 19, 4)\n",
      "y_train.shape =  (4497, 4)\n",
      "x_valid.shape =  (562, 19, 4)\n",
      "y_valid.shape =  (562, 4)\n",
      "x_test.shape =  (562, 19, 4)\n",
      "y_test.shape =  (562, 4)\n"
     ]
    }
   ],
   "source": [
    "x_train, y_train, x_valid, y_valid, x_test, y_test = load_data(df_stock_norm, seq_len)\n",
    "print('x_train.shape = ',x_train.shape)\n",
    "print('y_train.shape = ', y_train.shape)\n",
    "print('x_valid.shape = ',x_valid.shape)\n",
    "print('y_valid.shape = ', y_valid.shape)\n",
    "print('x_test.shape = ', x_test.shape)\n",
    "print('y_test.shape = ',y_test.shape)"
   ]
  },
  {
   "cell_type": "code",
   "execution_count": 10,
   "metadata": {},
   "outputs": [],
   "source": [
    "#dir(tf.nn)"
   ]
  },
  {
   "cell_type": "markdown",
   "metadata": {},
   "source": [
    "___\n",
    "## Section 3.2 - Create tensorflow model"
   ]
  },
  {
   "cell_type": "code",
   "execution_count": 11,
   "metadata": {},
   "outputs": [],
   "source": [
    "\"\"\"Building the Model\"\"\"\n",
    "\n",
    "train_set_size = x_train.shape[0]\n",
    "test_set_size = x_test.shape[0]\n",
    "tf.reset_default_graph()\n",
    "X = tf.placeholder(tf.float32, [None, n_steps, n_inputs])\n",
    "y = tf.placeholder(tf.float32, [None, n_outputs])\n",
    "\n",
    "# function to get the next batch\n",
    "index_in_epoch = 0;\n",
    "perm_array  = np.arange(x_train.shape[0])\n",
    "np.random.shuffle(perm_array)\n",
    "\n",
    "\n",
    "\n",
    "#RNN \n",
    "layers = [tf.contrib.rnn.BasicRNNCell(num_units=n_neurons, activation=tf.nn.elu)\n",
    "         for layer in range(n_layers)]\n",
    "# LSTM  \n",
    "#layers = [tf.contrib.rnn.BasicLSTMCell(num_units=n_neurons, activation=tf.nn.elu)\n",
    "#        for layer in range(n_layers)]\n",
    "\n",
    "#LSTM with peephole connections\n",
    "#layers = [tf.contrib.rnn.LSTMCell(num_units=n_neurons, \n",
    "#                                  activation=tf.nn.leaky_relu, use_peepholes = True)\n",
    "#          for layer in range(n_layers)]\n",
    "\n",
    "#GRU \n",
    "#layers = [tf.contrib.rnn.GRUCell(num_units=n_neurons, activation=tf.nn.leaky_relu)\n",
    "#          for layer in range(n_layers)] \n",
    "\n",
    "multi_layer_cell = tf.contrib.rnn.MultiRNNCell(layers)\n",
    "# rnn_outputs, states = tf.nn.c(multi_layer_cell, X, dtype=tf.float32)\n",
    "rnn_outputs, states = tf.nn.dynamic_rnn(multi_layer_cell, X, dtype=tf.float32)\n",
    "stacked_rnn_outputs = tf.reshape(rnn_outputs, [-1, n_neurons]) \n",
    "stacked_outputs = tf.layers.dense(stacked_rnn_outputs, n_outputs)\n",
    "outputs = tf.reshape(stacked_outputs, [-1, n_steps, n_outputs])\n",
    "outputs = outputs[:,n_steps-1,:] # keep only last output of sequence\n",
    "\n",
    "# Cost function\n",
    "loss = tf.reduce_mean(tf.square(outputs - y))\n",
    "\n",
    "#optimizer\n",
    "optimizer = tf.train.AdamOptimizer(learning_rate=learning_rate) \n",
    "training_op = optimizer.minimize(loss)\n"
   ]
  },
  {
   "cell_type": "markdown",
   "metadata": {},
   "source": [
    "___\n",
    "## Section 4.0 - Train the model"
   ]
  },
  {
   "cell_type": "code",
   "execution_count": 12,
   "metadata": {},
   "outputs": [
    {
     "name": "stdout",
     "output_type": "stream",
     "text": [
      "0.00 epochs: MSE train/valid = 0.350010/0.765563\n",
      "4.99 epochs: MSE train/valid = 0.000087/0.000084\n",
      "9.98 epochs: MSE train/valid = 0.000106/0.000133\n",
      "14.98 epochs: MSE train/valid = 0.000061/0.000059\n",
      "19.97 epochs: MSE train/valid = 0.000055/0.000048\n",
      "24.96 epochs: MSE train/valid = 0.000061/0.000066\n",
      "29.95 epochs: MSE train/valid = 0.000053/0.000039\n",
      "34.95 epochs: MSE train/valid = 0.000059/0.000054\n",
      "39.94 epochs: MSE train/valid = 0.000057/0.000053\n",
      "44.93 epochs: MSE train/valid = 0.000054/0.000053\n",
      "49.92 epochs: MSE train/valid = 0.000042/0.000025\n",
      "54.91 epochs: MSE train/valid = 0.000041/0.000023\n",
      "59.91 epochs: MSE train/valid = 0.000043/0.000032\n",
      "64.90 epochs: MSE train/valid = 0.000044/0.000040\n",
      "69.89 epochs: MSE train/valid = 0.000045/0.000039\n",
      "74.88 epochs: MSE train/valid = 0.000048/0.000041\n",
      "79.88 epochs: MSE train/valid = 0.000041/0.000028\n",
      "84.87 epochs: MSE train/valid = 0.000041/0.000025\n",
      "89.86 epochs: MSE train/valid = 0.000039/0.000030\n",
      "94.85 epochs: MSE train/valid = 0.000094/0.000163\n",
      "99.84 epochs: MSE train/valid = 0.000051/0.000052\n"
     ]
    }
   ],
   "source": [
    "# Fitting the model\n",
    "with tf.Session() as sess: \n",
    "    sess.run(tf.global_variables_initializer())\n",
    "    for iteration in range(int(n_epochs*train_set_size/batch_size)):\n",
    "        x_batch, y_batch = get_next_batch(batch_size) # fetch the next training batch \n",
    "        sess.run(training_op, feed_dict={X: x_batch, y: y_batch}) \n",
    "        if iteration % int(5*train_set_size/batch_size) == 0:\n",
    "            mse_train = loss.eval(feed_dict={X: x_train, y: y_train}) \n",
    "            mse_valid = loss.eval(feed_dict={X: x_valid, y: y_valid}) \n",
    "            print('%.2f epochs: MSE train/valid = %.6f/%.6f'%(\n",
    "                iteration*batch_size/train_set_size, mse_train, mse_valid))\n",
    "    # Predictions\n",
    "    y_test_pred = sess.run(outputs, feed_dict={X: x_test})"
   ]
  },
  {
   "cell_type": "markdown",
   "metadata": {},
   "source": [
    "___\n",
    "## Section 4.1 - Create and graph predictions"
   ]
  },
  {
   "cell_type": "code",
   "execution_count": 13,
   "metadata": {},
   "outputs": [
    {
     "data": {
      "image/png": "[encoded data removed]",
      "text/plain": [
       "<Figure size 720x360 with 1 Axes>"
      ]
     },
     "metadata": {},
     "output_type": "display_data"
    }
   ],
   "source": [
    "\n",
    "#checking prediction output nos \n",
    "y_test_pred.shape\n",
    "\n",
    "# ploting the graph\n",
    "comp = pd.DataFrame({'Column1':y_test[:,3],'Column2':y_test_pred[:,3]})\n",
    "plt.figure(figsize=(10,5))\n",
    "plt.plot(comp['Column1'], color='blue', label='Target')\n",
    "plt.plot(comp['Column2'], color='black', label='Prediction')\n",
    "plt.legend()\n",
    "plt.show()"
   ]
  },
  {
   "cell_type": "markdown",
   "metadata": {},
   "source": [
    "___\n",
    "## Section 4.2 - zoom in on data\n",
    "The plot below shows that the predictions seem to actually be very close to a single period shift of y_test."
   ]
  },
  {
   "cell_type": "code",
   "execution_count": 15,
   "metadata": {},
   "outputs": [
    {
     "data": {
      "image/png": "[encoded data removed]",
      "text/plain": [
       "<Figure size 432x288 with 1 Axes>"
      ]
     },
     "metadata": {},
     "output_type": "display_data"
    }
   ],
   "source": [
    "b=100\n",
    "q = 30\n",
    "yt = y_test[b:(b+q),3]\n",
    "ytp = y_test_pred[b:(b+q),3]\n",
    "x_shift = 1\n",
    "y_ma  = y_test[(b-x_shift):(b+q-x_shift),3] \n",
    "y_ma_offset = (ytp - y_ma).mean()\n",
    "y_ma = y_ma - - y_ma_offset\n",
    "fig, ax = plt.subplots() \n",
    "plt.plot(yt, color='blue', label='Target')\n",
    "plt.plot(ytp, color='black', label='Prediction')\n",
    "plt.plot(y_ma, color='red', label='Target-offset')\n",
    "plt.legend()\n",
    "ax.minorticks_on()\n",
    "\n",
    "# Customize the minor grid\n",
    "plt.grid(which='minor', linestyle=':', linewidth=0.5, color='black')\n",
    "# Customize the major grid\n",
    "plt.grid(which='major', linestyle='-', linewidth=0.5, color='red')\n",
    "plt.show()\n"
   ]
  },
  {
   "cell_type": "markdown",
   "metadata": {},
   "source": [
    "## End"
   ]
  },
  {
   "cell_type": "code",
   "execution_count": null,
   "metadata": {},
   "outputs": [],
   "source": []
  }
 ],
 "metadata": {
  "kernelspec": {
   "display_name": "Python 3",
   "language": "python",
   "name": "python3"
  },
  "language_info": {
   "codemirror_mode": {
    "name": "ipython",
    "version": 3
   },
   "file_extension": ".py",
   "mimetype": "text/x-python",
   "name": "python",
   "nbconvert_exporter": "python",
   "pygments_lexer": "ipython3",
   "version": "3.6.5"
  }
 },
 "nbformat": 4,
 "nbformat_minor": 2
}
